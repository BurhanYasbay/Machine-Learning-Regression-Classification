{
 "cells": [
  {
   "cell_type": "code",
   "execution_count": 1,
   "metadata": {},
   "outputs": [],
   "source": [
    "import pandas as pd\n",
    "import numpy as np\n",
    "from sklearn.model_selection import train_test_split\n",
    "from sklearn.linear_model import  LogisticRegression,SGDClassifier\n",
    "from sklearn.ensemble import RandomForestClassifier\n",
    "from sklearn.preprocessing import StandardScaler\n",
    "from sklearn.metrics import accuracy_score\n",
    "from tensorflow.keras.models import Sequential\n",
    "from tensorflow.keras.layers import Dense, Conv1D, Flatten, Dropout, MaxPooling1D\n",
    "from tensorflow.keras.utils import to_categorical"
   ]
  },
  {
   "cell_type": "code",
   "execution_count": 2,
   "metadata": {},
   "outputs": [],
   "source": [
    "classification_data = pd.read_csv(\"project_2_train.csv\")"
   ]
  },
  {
   "cell_type": "code",
   "execution_count": 3,
   "metadata": {},
   "outputs": [],
   "source": [
    "classification_data = classification_data.apply(lambda col: col.fillna(col.mode()[0]) if col.dtype == 'O' else col.fillna(col.mean()), axis=0)\n"
   ]
  },
  {
   "cell_type": "code",
   "execution_count": 4,
   "metadata": {},
   "outputs": [],
   "source": [
    "X_classification = classification_data.iloc[:, 1:]  \n",
    "y_classification = classification_data.iloc[:, 0]   "
   ]
  },
  {
   "cell_type": "code",
   "execution_count": 5,
   "metadata": {},
   "outputs": [],
   "source": [
    "X_train_clf, X_test_clf, y_train_clf, y_test_clf = train_test_split(\n",
    "    X_classification, y_classification, test_size=0.2, random_state=42\n",
    ")"
   ]
  },
  {
   "cell_type": "code",
   "execution_count": 6,
   "metadata": {},
   "outputs": [],
   "source": [
    "scaler_clf = StandardScaler()\n",
    "X_train_clf_scaled = scaler_clf.fit_transform(X_train_clf)\n",
    "X_test_clf_scaled = scaler_clf.transform(X_test_clf)"
   ]
  },
  {
   "cell_type": "code",
   "execution_count": 7,
   "metadata": {},
   "outputs": [],
   "source": [
    "log_reg = LogisticRegression(max_iter=1000)\n",
    "log_reg.fit(X_train_clf_scaled, y_train_clf)\n",
    "log_reg_pred = log_reg.predict(X_test_clf_scaled)\n",
    "log_reg_score = accuracy_score(y_test_clf, log_reg_pred)"
   ]
  },
  {
   "cell_type": "code",
   "execution_count": 8,
   "metadata": {},
   "outputs": [],
   "source": [
    "rfc_model = RandomForestClassifier().fit(X_train_clf_scaled,y_train_clf)\n",
    "rfc_pred = rfc_model.predict(X_test_clf_scaled)\n",
    "rfc_score = accuracy_score(rfc_pred,y_test_clf)"
   ]
  },
  {
   "cell_type": "code",
   "execution_count": 9,
   "metadata": {},
   "outputs": [
    {
     "name": "stderr",
     "output_type": "stream",
     "text": [
      "c:\\Users\\brhnd\\AppData\\Local\\Programs\\Python\\Python312\\Lib\\site-packages\\sklearn\\linear_model\\_stochastic_gradient.py:723: ConvergenceWarning: Maximum number of iteration reached before convergence. Consider increasing max_iter to improve the fit.\n",
      "  warnings.warn(\n"
     ]
    }
   ],
   "source": [
    "sgd_model = SGDClassifier(random_state=42, max_iter=100)\n",
    "sgd_model.fit(X_train_clf_scaled, y_train_clf)\n",
    "sgd_pred = sgd_model.predict(X_test_clf_scaled)\n",
    "sgd_score = accuracy_score(sgd_pred, y_test_clf)"
   ]
  },
  {
   "cell_type": "code",
   "execution_count": 10,
   "metadata": {},
   "outputs": [],
   "source": [
    "y_train_clf_encoded = to_categorical(y_train_clf)\n",
    "y_test_clf_encoded = to_categorical(y_test_clf)"
   ]
  },
  {
   "cell_type": "code",
   "execution_count": 11,
   "metadata": {},
   "outputs": [],
   "source": [
    "X_train_clf_cnn = np.expand_dims(X_train_clf_scaled, axis=2)\n",
    "X_test_clf_cnn = np.expand_dims(X_test_clf_scaled, axis=2)"
   ]
  },
  {
   "cell_type": "code",
   "execution_count": 12,
   "metadata": {},
   "outputs": [
    {
     "name": "stderr",
     "output_type": "stream",
     "text": [
      "c:\\Users\\brhnd\\AppData\\Local\\Programs\\Python\\Python312\\Lib\\site-packages\\keras\\src\\layers\\core\\dense.py:86: UserWarning: Do not pass an `input_shape`/`input_dim` argument to a layer. When using Sequential models, prefer using an `Input(shape)` object as the first layer in the model instead.\n",
      "  super().__init__(activity_regularizer=activity_regularizer, **kwargs)\n"
     ]
    }
   ],
   "source": [
    "dnn_model = Sequential([\n",
    "    Dense(128, activation='relu', input_shape=(X_train_clf_scaled.shape[1],)),\n",
    "    Dropout(0.3),  # Overfitting'i önlemek için Dropout\n",
    "    Dense(64, activation='relu'),\n",
    "    Dropout(0.3),\n",
    "    Dense(y_train_clf_encoded.shape[1], activation='softmax')  # Çıkış katmanı\n",
    "])\n"
   ]
  },
  {
   "cell_type": "code",
   "execution_count": 13,
   "metadata": {},
   "outputs": [],
   "source": [
    "dnn_model.compile(optimizer='adam', \n",
    "                  loss='categorical_crossentropy', \n",
    "                  metrics=['accuracy'])"
   ]
  },
  {
   "cell_type": "code",
   "execution_count": 14,
   "metadata": {},
   "outputs": [
    {
     "name": "stdout",
     "output_type": "stream",
     "text": [
      "Epoch 1/50\n",
      "\u001b[1m1776/1776\u001b[0m \u001b[32m━━━━━━━━━━━━━━━━━━━━\u001b[0m\u001b[37m\u001b[0m \u001b[1m3s\u001b[0m 1ms/step - accuracy: 0.4691 - loss: 1.8619 - val_accuracy: 0.7714 - val_loss: 0.7814\n",
      "Epoch 2/50\n",
      "\u001b[1m1776/1776\u001b[0m \u001b[32m━━━━━━━━━━━━━━━━━━━━\u001b[0m\u001b[37m\u001b[0m \u001b[1m2s\u001b[0m 1ms/step - accuracy: 0.6770 - loss: 1.0481 - val_accuracy: 0.7993 - val_loss: 0.6519\n",
      "Epoch 3/50\n",
      "\u001b[1m1776/1776\u001b[0m \u001b[32m━━━━━━━━━━━━━━━━━━━━\u001b[0m\u001b[37m\u001b[0m \u001b[1m2s\u001b[0m 1ms/step - accuracy: 0.7110 - loss: 0.9367 - val_accuracy: 0.8195 - val_loss: 0.5995\n",
      "Epoch 4/50\n",
      "\u001b[1m1776/1776\u001b[0m \u001b[32m━━━━━━━━━━━━━━━━━━━━\u001b[0m\u001b[37m\u001b[0m \u001b[1m2s\u001b[0m 1ms/step - accuracy: 0.7319 - loss: 0.8736 - val_accuracy: 0.8276 - val_loss: 0.5583\n",
      "Epoch 5/50\n",
      "\u001b[1m1776/1776\u001b[0m \u001b[32m━━━━━━━━━━━━━━━━━━━━\u001b[0m\u001b[37m\u001b[0m \u001b[1m2s\u001b[0m 1ms/step - accuracy: 0.7427 - loss: 0.8160 - val_accuracy: 0.8318 - val_loss: 0.5452\n",
      "Epoch 6/50\n",
      "\u001b[1m1776/1776\u001b[0m \u001b[32m━━━━━━━━━━━━━━━━━━━━\u001b[0m\u001b[37m\u001b[0m \u001b[1m2s\u001b[0m 1ms/step - accuracy: 0.7605 - loss: 0.7698 - val_accuracy: 0.8419 - val_loss: 0.5184\n",
      "Epoch 7/50\n",
      "\u001b[1m1776/1776\u001b[0m \u001b[32m━━━━━━━━━━━━━━━━━━━━\u001b[0m\u001b[37m\u001b[0m \u001b[1m2s\u001b[0m 1ms/step - accuracy: 0.7641 - loss: 0.7566 - val_accuracy: 0.8411 - val_loss: 0.5188\n",
      "Epoch 8/50\n",
      "\u001b[1m1776/1776\u001b[0m \u001b[32m━━━━━━━━━━━━━━━━━━━━\u001b[0m\u001b[37m\u001b[0m \u001b[1m2s\u001b[0m 1ms/step - accuracy: 0.7678 - loss: 0.7326 - val_accuracy: 0.8440 - val_loss: 0.4960\n",
      "Epoch 9/50\n",
      "\u001b[1m1776/1776\u001b[0m \u001b[32m━━━━━━━━━━━━━━━━━━━━\u001b[0m\u001b[37m\u001b[0m \u001b[1m2s\u001b[0m 1ms/step - accuracy: 0.7752 - loss: 0.7095 - val_accuracy: 0.8460 - val_loss: 0.4942\n",
      "Epoch 10/50\n",
      "\u001b[1m1776/1776\u001b[0m \u001b[32m━━━━━━━━━━━━━━━━━━━━\u001b[0m\u001b[37m\u001b[0m \u001b[1m2s\u001b[0m 1ms/step - accuracy: 0.7808 - loss: 0.7024 - val_accuracy: 0.8445 - val_loss: 0.4865\n",
      "Epoch 11/50\n",
      "\u001b[1m1776/1776\u001b[0m \u001b[32m━━━━━━━━━━━━━━━━━━━━\u001b[0m\u001b[37m\u001b[0m \u001b[1m2s\u001b[0m 1ms/step - accuracy: 0.7811 - loss: 0.6924 - val_accuracy: 0.8515 - val_loss: 0.4715\n",
      "Epoch 12/50\n",
      "\u001b[1m1776/1776\u001b[0m \u001b[32m━━━━━━━━━━━━━━━━━━━━\u001b[0m\u001b[37m\u001b[0m \u001b[1m2s\u001b[0m 1ms/step - accuracy: 0.7935 - loss: 0.6633 - val_accuracy: 0.8478 - val_loss: 0.4751\n",
      "Epoch 13/50\n",
      "\u001b[1m1776/1776\u001b[0m \u001b[32m━━━━━━━━━━━━━━━━━━━━\u001b[0m\u001b[37m\u001b[0m \u001b[1m2s\u001b[0m 1ms/step - accuracy: 0.7898 - loss: 0.6734 - val_accuracy: 0.8565 - val_loss: 0.4550\n",
      "Epoch 14/50\n",
      "\u001b[1m1776/1776\u001b[0m \u001b[32m━━━━━━━━━━━━━━━━━━━━\u001b[0m\u001b[37m\u001b[0m \u001b[1m2s\u001b[0m 1ms/step - accuracy: 0.7926 - loss: 0.6531 - val_accuracy: 0.8543 - val_loss: 0.4663\n",
      "Epoch 15/50\n",
      "\u001b[1m1776/1776\u001b[0m \u001b[32m━━━━━━━━━━━━━━━━━━━━\u001b[0m\u001b[37m\u001b[0m \u001b[1m2s\u001b[0m 1ms/step - accuracy: 0.7902 - loss: 0.6522 - val_accuracy: 0.8592 - val_loss: 0.4585\n",
      "Epoch 16/50\n",
      "\u001b[1m1776/1776\u001b[0m \u001b[32m━━━━━━━━━━━━━━━━━━━━\u001b[0m\u001b[37m\u001b[0m \u001b[1m2s\u001b[0m 1ms/step - accuracy: 0.7936 - loss: 0.6488 - val_accuracy: 0.8589 - val_loss: 0.4583\n",
      "Epoch 17/50\n",
      "\u001b[1m1776/1776\u001b[0m \u001b[32m━━━━━━━━━━━━━━━━━━━━\u001b[0m\u001b[37m\u001b[0m \u001b[1m2s\u001b[0m 1ms/step - accuracy: 0.7990 - loss: 0.6323 - val_accuracy: 0.8608 - val_loss: 0.4483\n",
      "Epoch 18/50\n",
      "\u001b[1m1776/1776\u001b[0m \u001b[32m━━━━━━━━━━━━━━━━━━━━\u001b[0m\u001b[37m\u001b[0m \u001b[1m2s\u001b[0m 1ms/step - accuracy: 0.8012 - loss: 0.6308 - val_accuracy: 0.8608 - val_loss: 0.4464\n",
      "Epoch 19/50\n",
      "\u001b[1m1776/1776\u001b[0m \u001b[32m━━━━━━━━━━━━━━━━━━━━\u001b[0m\u001b[37m\u001b[0m \u001b[1m2s\u001b[0m 1ms/step - accuracy: 0.8006 - loss: 0.6189 - val_accuracy: 0.8668 - val_loss: 0.4441\n",
      "Epoch 20/50\n",
      "\u001b[1m1776/1776\u001b[0m \u001b[32m━━━━━━━━━━━━━━━━━━━━\u001b[0m\u001b[37m\u001b[0m \u001b[1m2s\u001b[0m 1ms/step - accuracy: 0.8043 - loss: 0.6251 - val_accuracy: 0.8594 - val_loss: 0.4527\n",
      "Epoch 21/50\n",
      "\u001b[1m1776/1776\u001b[0m \u001b[32m━━━━━━━━━━━━━━━━━━━━\u001b[0m\u001b[37m\u001b[0m \u001b[1m2s\u001b[0m 1ms/step - accuracy: 0.8053 - loss: 0.6107 - val_accuracy: 0.8549 - val_loss: 0.4578\n",
      "Epoch 22/50\n",
      "\u001b[1m1776/1776\u001b[0m \u001b[32m━━━━━━━━━━━━━━━━━━━━\u001b[0m\u001b[37m\u001b[0m \u001b[1m2s\u001b[0m 1ms/step - accuracy: 0.8019 - loss: 0.6182 - val_accuracy: 0.8637 - val_loss: 0.4412\n",
      "Epoch 23/50\n",
      "\u001b[1m1776/1776\u001b[0m \u001b[32m━━━━━━━━━━━━━━━━━━━━\u001b[0m\u001b[37m\u001b[0m \u001b[1m2s\u001b[0m 1ms/step - accuracy: 0.8107 - loss: 0.6020 - val_accuracy: 0.8656 - val_loss: 0.4406\n",
      "Epoch 24/50\n",
      "\u001b[1m1776/1776\u001b[0m \u001b[32m━━━━━━━━━━━━━━━━━━━━\u001b[0m\u001b[37m\u001b[0m \u001b[1m2s\u001b[0m 1ms/step - accuracy: 0.8052 - loss: 0.6048 - val_accuracy: 0.8651 - val_loss: 0.4315\n",
      "Epoch 25/50\n",
      "\u001b[1m1776/1776\u001b[0m \u001b[32m━━━━━━━━━━━━━━━━━━━━\u001b[0m\u001b[37m\u001b[0m \u001b[1m2s\u001b[0m 1ms/step - accuracy: 0.8141 - loss: 0.5813 - val_accuracy: 0.8659 - val_loss: 0.4294\n",
      "Epoch 26/50\n",
      "\u001b[1m1776/1776\u001b[0m \u001b[32m━━━━━━━━━━━━━━━━━━━━\u001b[0m\u001b[37m\u001b[0m \u001b[1m2s\u001b[0m 1ms/step - accuracy: 0.8112 - loss: 0.5910 - val_accuracy: 0.8633 - val_loss: 0.4328\n",
      "Epoch 27/50\n",
      "\u001b[1m1776/1776\u001b[0m \u001b[32m━━━━━━━━━━━━━━━━━━━━\u001b[0m\u001b[37m\u001b[0m \u001b[1m2s\u001b[0m 1ms/step - accuracy: 0.8126 - loss: 0.5858 - val_accuracy: 0.8658 - val_loss: 0.4290\n",
      "Epoch 28/50\n",
      "\u001b[1m1776/1776\u001b[0m \u001b[32m━━━━━━━━━━━━━━━━━━━━\u001b[0m\u001b[37m\u001b[0m \u001b[1m2s\u001b[0m 1ms/step - accuracy: 0.8111 - loss: 0.5966 - val_accuracy: 0.8644 - val_loss: 0.4274\n",
      "Epoch 29/50\n",
      "\u001b[1m1776/1776\u001b[0m \u001b[32m━━━━━━━━━━━━━━━━━━━━\u001b[0m\u001b[37m\u001b[0m \u001b[1m2s\u001b[0m 1ms/step - accuracy: 0.8148 - loss: 0.5798 - val_accuracy: 0.8625 - val_loss: 0.4326\n",
      "Epoch 30/50\n",
      "\u001b[1m1776/1776\u001b[0m \u001b[32m━━━━━━━━━━━━━━━━━━━━\u001b[0m\u001b[37m\u001b[0m \u001b[1m2s\u001b[0m 1ms/step - accuracy: 0.8165 - loss: 0.5750 - val_accuracy: 0.8710 - val_loss: 0.4325\n",
      "Epoch 31/50\n",
      "\u001b[1m1776/1776\u001b[0m \u001b[32m━━━━━━━━━━━━━━━━━━━━\u001b[0m\u001b[37m\u001b[0m \u001b[1m2s\u001b[0m 1ms/step - accuracy: 0.8188 - loss: 0.5689 - val_accuracy: 0.8679 - val_loss: 0.4239\n",
      "Epoch 32/50\n",
      "\u001b[1m1776/1776\u001b[0m \u001b[32m━━━━━━━━━━━━━━━━━━━━\u001b[0m\u001b[37m\u001b[0m \u001b[1m2s\u001b[0m 1ms/step - accuracy: 0.8204 - loss: 0.5748 - val_accuracy: 0.8707 - val_loss: 0.4245\n",
      "Epoch 33/50\n",
      "\u001b[1m1776/1776\u001b[0m \u001b[32m━━━━━━━━━━━━━━━━━━━━\u001b[0m\u001b[37m\u001b[0m \u001b[1m2s\u001b[0m 1ms/step - accuracy: 0.8154 - loss: 0.5846 - val_accuracy: 0.8685 - val_loss: 0.4316\n",
      "Epoch 34/50\n",
      "\u001b[1m1776/1776\u001b[0m \u001b[32m━━━━━━━━━━━━━━━━━━━━\u001b[0m\u001b[37m\u001b[0m \u001b[1m2s\u001b[0m 1ms/step - accuracy: 0.8207 - loss: 0.5609 - val_accuracy: 0.8683 - val_loss: 0.4337\n",
      "Epoch 35/50\n",
      "\u001b[1m1776/1776\u001b[0m \u001b[32m━━━━━━━━━━━━━━━━━━━━\u001b[0m\u001b[37m\u001b[0m \u001b[1m2s\u001b[0m 1ms/step - accuracy: 0.8227 - loss: 0.5605 - val_accuracy: 0.8719 - val_loss: 0.4197\n",
      "Epoch 36/50\n",
      "\u001b[1m1776/1776\u001b[0m \u001b[32m━━━━━━━━━━━━━━━━━━━━\u001b[0m\u001b[37m\u001b[0m \u001b[1m2s\u001b[0m 1ms/step - accuracy: 0.8223 - loss: 0.5547 - val_accuracy: 0.8702 - val_loss: 0.4302\n",
      "Epoch 37/50\n",
      "\u001b[1m1776/1776\u001b[0m \u001b[32m━━━━━━━━━━━━━━━━━━━━\u001b[0m\u001b[37m\u001b[0m \u001b[1m2s\u001b[0m 1ms/step - accuracy: 0.8203 - loss: 0.5556 - val_accuracy: 0.8745 - val_loss: 0.4170\n",
      "Epoch 38/50\n",
      "\u001b[1m1776/1776\u001b[0m \u001b[32m━━━━━━━━━━━━━━━━━━━━\u001b[0m\u001b[37m\u001b[0m \u001b[1m2s\u001b[0m 1ms/step - accuracy: 0.8215 - loss: 0.5546 - val_accuracy: 0.8694 - val_loss: 0.4207\n",
      "Epoch 39/50\n",
      "\u001b[1m1776/1776\u001b[0m \u001b[32m━━━━━━━━━━━━━━━━━━━━\u001b[0m\u001b[37m\u001b[0m \u001b[1m2s\u001b[0m 1ms/step - accuracy: 0.8202 - loss: 0.5542 - val_accuracy: 0.8724 - val_loss: 0.4203\n",
      "Epoch 40/50\n",
      "\u001b[1m1776/1776\u001b[0m \u001b[32m━━━━━━━━━━━━━━━━━━━━\u001b[0m\u001b[37m\u001b[0m \u001b[1m2s\u001b[0m 1ms/step - accuracy: 0.8216 - loss: 0.5533 - val_accuracy: 0.8730 - val_loss: 0.4161\n",
      "Epoch 41/50\n",
      "\u001b[1m1776/1776\u001b[0m \u001b[32m━━━━━━━━━━━━━━━━━━━━\u001b[0m\u001b[37m\u001b[0m \u001b[1m2s\u001b[0m 1ms/step - accuracy: 0.8265 - loss: 0.5349 - val_accuracy: 0.8705 - val_loss: 0.4164\n",
      "Epoch 42/50\n",
      "\u001b[1m1776/1776\u001b[0m \u001b[32m━━━━━━━━━━━━━━━━━━━━\u001b[0m\u001b[37m\u001b[0m \u001b[1m2s\u001b[0m 1ms/step - accuracy: 0.8246 - loss: 0.5461 - val_accuracy: 0.8699 - val_loss: 0.4150\n",
      "Epoch 43/50\n",
      "\u001b[1m1776/1776\u001b[0m \u001b[32m━━━━━━━━━━━━━━━━━━━━\u001b[0m\u001b[37m\u001b[0m \u001b[1m2s\u001b[0m 1ms/step - accuracy: 0.8259 - loss: 0.5340 - val_accuracy: 0.8705 - val_loss: 0.4210\n",
      "Epoch 44/50\n",
      "\u001b[1m1776/1776\u001b[0m \u001b[32m━━━━━━━━━━━━━━━━━━━━\u001b[0m\u001b[37m\u001b[0m \u001b[1m2s\u001b[0m 1ms/step - accuracy: 0.8275 - loss: 0.5403 - val_accuracy: 0.8732 - val_loss: 0.4159\n",
      "Epoch 45/50\n",
      "\u001b[1m1776/1776\u001b[0m \u001b[32m━━━━━━━━━━━━━━━━━━━━\u001b[0m\u001b[37m\u001b[0m \u001b[1m2s\u001b[0m 1ms/step - accuracy: 0.8307 - loss: 0.5253 - val_accuracy: 0.8655 - val_loss: 0.4207\n",
      "Epoch 46/50\n",
      "\u001b[1m1776/1776\u001b[0m \u001b[32m━━━━━━━━━━━━━━━━━━━━\u001b[0m\u001b[37m\u001b[0m \u001b[1m2s\u001b[0m 1ms/step - accuracy: 0.8240 - loss: 0.5486 - val_accuracy: 0.8712 - val_loss: 0.4135\n",
      "Epoch 47/50\n",
      "\u001b[1m1776/1776\u001b[0m \u001b[32m━━━━━━━━━━━━━━━━━━━━\u001b[0m\u001b[37m\u001b[0m \u001b[1m2s\u001b[0m 1ms/step - accuracy: 0.8283 - loss: 0.5286 - val_accuracy: 0.8698 - val_loss: 0.4196\n",
      "Epoch 48/50\n",
      "\u001b[1m1776/1776\u001b[0m \u001b[32m━━━━━━━━━━━━━━━━━━━━\u001b[0m\u001b[37m\u001b[0m \u001b[1m2s\u001b[0m 1ms/step - accuracy: 0.8255 - loss: 0.5498 - val_accuracy: 0.8729 - val_loss: 0.4155\n",
      "Epoch 49/50\n",
      "\u001b[1m1776/1776\u001b[0m \u001b[32m━━━━━━━━━━━━━━━━━━━━\u001b[0m\u001b[37m\u001b[0m \u001b[1m2s\u001b[0m 1ms/step - accuracy: 0.8305 - loss: 0.5216 - val_accuracy: 0.8704 - val_loss: 0.4186\n",
      "Epoch 50/50\n",
      "\u001b[1m1776/1776\u001b[0m \u001b[32m━━━━━━━━━━━━━━━━━━━━\u001b[0m\u001b[37m\u001b[0m \u001b[1m2s\u001b[0m 1ms/step - accuracy: 0.8287 - loss: 0.5332 - val_accuracy: 0.8692 - val_loss: 0.4212\n"
     ]
    }
   ],
   "source": [
    "dnn_history = dnn_model.fit(X_train_clf_scaled, y_train_clf_encoded, \n",
    "                            validation_split=0.2, \n",
    "                            epochs=50, \n",
    "                            batch_size=32, \n",
    "                            verbose=1)"
   ]
  },
  {
   "cell_type": "code",
   "execution_count": 15,
   "metadata": {},
   "outputs": [],
   "source": [
    "dnn_test_loss, dnn_test_accuracy = dnn_model.evaluate(X_test_clf_scaled, y_test_clf_encoded, verbose=0)"
   ]
  },
  {
   "cell_type": "code",
   "execution_count": 16,
   "metadata": {},
   "outputs": [
    {
     "name": "stderr",
     "output_type": "stream",
     "text": [
      "c:\\Users\\brhnd\\AppData\\Local\\Programs\\Python\\Python312\\Lib\\site-packages\\keras\\src\\layers\\convolutional\\base_conv.py:99: UserWarning: Do not pass an `input_shape`/`input_dim` argument to a layer. When using Sequential models, prefer using an `Input(shape)` object as the first layer in the model instead.\n",
      "  super().__init__(\n"
     ]
    }
   ],
   "source": [
    "cnn_model = Sequential([\n",
    "    Conv1D(64, kernel_size=3, activation='relu', input_shape=(X_train_clf_cnn.shape[1], X_train_clf_cnn.shape[2])),\n",
    "    MaxPooling1D(pool_size=2),  \n",
    "    Dropout(0.3),              \n",
    "    Conv1D(32, kernel_size=3, activation='relu'),\n",
    "    MaxPooling1D(pool_size=2),\n",
    "    Dropout(0.3),\n",
    "    Flatten(),                 \n",
    "    Dense(64, activation='relu'),\n",
    "    Dropout(0.3),\n",
    "    Dense(y_train_clf_encoded.shape[1], activation='softmax')  \n",
    "])"
   ]
  },
  {
   "cell_type": "code",
   "execution_count": 17,
   "metadata": {},
   "outputs": [],
   "source": [
    "cnn_model.compile(optimizer='adam',\n",
    "                  loss='categorical_crossentropy',\n",
    "                  metrics=['accuracy'])"
   ]
  },
  {
   "cell_type": "code",
   "execution_count": 18,
   "metadata": {},
   "outputs": [
    {
     "name": "stdout",
     "output_type": "stream",
     "text": [
      "Epoch 1/10\n",
      "\u001b[1m1776/1776\u001b[0m \u001b[32m━━━━━━━━━━━━━━━━━━━━\u001b[0m\u001b[37m\u001b[0m \u001b[1m17s\u001b[0m 9ms/step - accuracy: 0.5229 - loss: 1.6418 - val_accuracy: 0.8084 - val_loss: 0.6429\n",
      "Epoch 2/10\n",
      "\u001b[1m1776/1776\u001b[0m \u001b[32m━━━━━━━━━━━━━━━━━━━━\u001b[0m\u001b[37m\u001b[0m \u001b[1m14s\u001b[0m 8ms/step - accuracy: 0.7316 - loss: 0.8581 - val_accuracy: 0.8320 - val_loss: 0.5643\n",
      "Epoch 3/10\n",
      "\u001b[1m1776/1776\u001b[0m \u001b[32m━━━━━━━━━━━━━━━━━━━━\u001b[0m\u001b[37m\u001b[0m \u001b[1m13s\u001b[0m 7ms/step - accuracy: 0.7601 - loss: 0.7628 - val_accuracy: 0.8442 - val_loss: 0.5233\n",
      "Epoch 4/10\n",
      "\u001b[1m1776/1776\u001b[0m \u001b[32m━━━━━━━━━━━━━━━━━━━━\u001b[0m\u001b[37m\u001b[0m \u001b[1m13s\u001b[0m 7ms/step - accuracy: 0.7749 - loss: 0.7015 - val_accuracy: 0.8414 - val_loss: 0.4970\n",
      "Epoch 5/10\n",
      "\u001b[1m1776/1776\u001b[0m \u001b[32m━━━━━━━━━━━━━━━━━━━━\u001b[0m\u001b[37m\u001b[0m \u001b[1m14s\u001b[0m 8ms/step - accuracy: 0.7892 - loss: 0.6533 - val_accuracy: 0.8487 - val_loss: 0.4760\n",
      "Epoch 6/10\n",
      "\u001b[1m1776/1776\u001b[0m \u001b[32m━━━━━━━━━━━━━━━━━━━━\u001b[0m\u001b[37m\u001b[0m \u001b[1m14s\u001b[0m 8ms/step - accuracy: 0.7973 - loss: 0.6239 - val_accuracy: 0.8594 - val_loss: 0.4692\n",
      "Epoch 7/10\n",
      "\u001b[1m1776/1776\u001b[0m \u001b[32m━━━━━━━━━━━━━━━━━━━━\u001b[0m\u001b[37m\u001b[0m \u001b[1m13s\u001b[0m 8ms/step - accuracy: 0.8073 - loss: 0.5926 - val_accuracy: 0.8637 - val_loss: 0.4475\n",
      "Epoch 8/10\n",
      "\u001b[1m1776/1776\u001b[0m \u001b[32m━━━━━━━━━━━━━━━━━━━━\u001b[0m\u001b[37m\u001b[0m \u001b[1m13s\u001b[0m 8ms/step - accuracy: 0.8163 - loss: 0.5757 - val_accuracy: 0.8662 - val_loss: 0.4395\n",
      "Epoch 9/10\n",
      "\u001b[1m1776/1776\u001b[0m \u001b[32m━━━━━━━━━━━━━━━━━━━━\u001b[0m\u001b[37m\u001b[0m \u001b[1m13s\u001b[0m 7ms/step - accuracy: 0.8155 - loss: 0.5716 - val_accuracy: 0.8604 - val_loss: 0.4490\n",
      "Epoch 10/10\n",
      "\u001b[1m1776/1776\u001b[0m \u001b[32m━━━━━━━━━━━━━━━━━━━━\u001b[0m\u001b[37m\u001b[0m \u001b[1m14s\u001b[0m 8ms/step - accuracy: 0.8189 - loss: 0.5586 - val_accuracy: 0.8659 - val_loss: 0.4379\n"
     ]
    }
   ],
   "source": [
    "cnn_history = cnn_model.fit(X_train_clf_cnn, y_train_clf_encoded,\n",
    "                            validation_split=0.2,\n",
    "                            epochs=10,\n",
    "                            batch_size=32,\n",
    "                            verbose=1)"
   ]
  },
  {
   "cell_type": "code",
   "execution_count": 19,
   "metadata": {},
   "outputs": [],
   "source": [
    "cnn_test_loss, cnn_test_accuracy = cnn_model.evaluate(X_test_clf_cnn, y_test_clf_encoded, verbose=0)"
   ]
  },
  {
   "cell_type": "code",
   "execution_count": 20,
   "metadata": {},
   "outputs": [
    {
     "name": "stdout",
     "output_type": "stream",
     "text": [
      "Logistic Regression Accuracy Score : 0.69\n",
      "SGD Accuracy Score : 0.67\n",
      "Random Forest Accuracy Score : 0.87\n",
      "DNN Test Accuracy: 0.87\n",
      "CNN Test Accuracy: 0.87\n"
     ]
    }
   ],
   "source": [
    "print(f\"Logistic Regression Accuracy Score : {round(log_reg_score,2)}\")\n",
    "print(f\"SGD Accuracy Score : {round(sgd_score,2)}\")\n",
    "print(f\"Random Forest Accuracy Score : {round(rfc_score,2)}\")\n",
    "print(f\"DNN Test Accuracy: {round(dnn_test_accuracy, 2)}\")\n",
    "print(f\"CNN Test Accuracy: {round(cnn_test_accuracy, 2)}\")"
   ]
  },
  {
   "cell_type": "code",
   "execution_count": 21,
   "metadata": {},
   "outputs": [],
   "source": [
    "data = {\n",
    "    'Linear Regression' : log_reg_score,\n",
    "    'SGD' : sgd_score,\n",
    "    'Random Forest': rfc_score,\n",
    "    'DNN' : dnn_test_accuracy,  \n",
    "    'CNN' : cnn_test_accuracy  \n",
    "}"
   ]
  },
  {
   "cell_type": "code",
   "execution_count": 22,
   "metadata": {},
   "outputs": [
    {
     "data": {
      "image/png": "[encoded data removed]",
      "text/plain": [
       "<Figure size 800x400 with 1 Axes>"
      ]
     },
     "metadata": {},
     "output_type": "display_data"
    }
   ],
   "source": [
    "import matplotlib.pyplot as plt\n",
    "import seaborn as sns\n",
    "names = list(data.keys())\n",
    "values = list(data.values())\n",
    "plt.figure(figsize = (8,4))\n",
    "ax = sns.barplot(x = names,y = values)\n",
    "ax.bar_label(ax.containers[0])\n",
    "plt.xlabel(\"Machine Learning Models\",size = 12,labelpad = 10)\n",
    "plt.ylabel(\"Mean Squared Error\",size = 12,labelpad=10)\n",
    "plt.title(\"Machine Learning Models by Accuracy\",size = 12,y = 1.05)\n",
    "plt.show()"
   ]
  }
 ],
 "metadata": {
  "kernelspec": {
   "display_name": "Python 3",
   "language": "python",
   "name": "python3"
  },
  "language_info": {
   "codemirror_mode": {
    "name": "ipython",
    "version": 3
   },
   "file_extension": ".py",
   "mimetype": "text/x-python",
   "name": "python",
   "nbconvert_exporter": "python",
   "pygments_lexer": "ipython3",
   "version": "3.12.1"
  }
 },
 "nbformat": 4,
 "nbformat_minor": 2
}
