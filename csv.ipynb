{
 "cells": [
  {
   "cell_type": "code",
   "execution_count": 1,
   "metadata": {},
   "outputs": [],
   "source": [
    "import pandas as pd\n",
    "import numpy as np\n",
    "from sklearn.impute import KNNImputer\n",
    "from sklearn.preprocessing import LabelEncoder"
   ]
  },
  {
   "cell_type": "code",
   "execution_count": 2,
   "metadata": {},
   "outputs": [],
   "source": [
    "file_path = \"project_1_train.csv\"  \n",
    "data = pd.read_csv('project_1_train.csv', usecols=['NR', 'Gender', 'Age', 'Race1', 'Race3', 'Education', 'MaritalStatus', 'HHIncome', 'HHIncomeMid', 'Poverty', 'HomeRooms', 'HomeOwn', 'Work', 'Weight', 'Height', 'BMI', 'BMICatUnder20yrs', 'BMI_WHO', 'Pulse', 'BPSysAve', 'BPDiaAve', 'BPSys1', 'BPDia1', 'BPSys2', 'BPSys2', 'BPSys3', 'BPDia3', 'Testosterone', 'UrineVol1', 'UrineFlow1', 'Diabetes', 'HealthGen', 'DaysPhysHlthBad', 'DaysMentHlthBad', 'Depressed', 'SleepHrsNight', 'SleepTrouble', 'PhysActive', 'PhysActiveDays', 'TVHrsDay', 'CompHrsDay', 'Alcohol12PlusYr', 'AlcoholDay', 'AlcoholYear', 'SmokeNow', 'Smoke100', 'Smoke100n', 'HardDrugs', 'SexEver', 'SexAge', 'SexNumPartnLife', 'SameSex', 'DirectChol'\n",
    "])"
   ]
  },
  {
   "cell_type": "code",
   "execution_count": 3,
   "metadata": {},
   "outputs": [
    {
     "name": "stdout",
     "output_type": "stream",
     "text": [
      "There are a total of 8000 rows with missing data in the dataset.\n"
     ]
    }
   ],
   "source": [
    "missing_rows = data.isnull().any(axis=1).sum()\n",
    "print(f\"There are a total of {missing_rows} rows with missing data in the dataset.\")"
   ]
  },
  {
   "cell_type": "code",
   "execution_count": 4,
   "metadata": {},
   "outputs": [],
   "source": [
    "numerical_columns = data.select_dtypes(include=[np.number]).columns.to_list()\n",
    "numerical_data = data[numerical_columns]\n"
   ]
  },
  {
   "cell_type": "code",
   "execution_count": 5,
   "metadata": {},
   "outputs": [],
   "source": [
    "knn_imputer = KNNImputer(n_neighbors=5)\n",
    "imputed_numerical_data = knn_imputer.fit_transform(numerical_data)\n",
    "imputed_numerical_df = pd.DataFrame(imputed_numerical_data, columns=numerical_columns)"
   ]
  },
  {
   "cell_type": "code",
   "execution_count": 6,
   "metadata": {},
   "outputs": [],
   "source": [
    "categorical_columns = data.select_dtypes(exclude=[np.number]).columns.to_list()\n",
    "categorical_data = data[categorical_columns]"
   ]
  },
  {
   "cell_type": "code",
   "execution_count": 7,
   "metadata": {},
   "outputs": [
    {
     "name": "stderr",
     "output_type": "stream",
     "text": [
      "C:\\Users\\brhnd\\AppData\\Local\\Temp\\ipykernel_9764\\372139516.py:3: FutureWarning: A value is trying to be set on a copy of a DataFrame or Series through chained assignment using an inplace method.\n",
      "The behavior will change in pandas 3.0. This inplace method will never work because the intermediate object on which we are setting values always behaves as a copy.\n",
      "\n",
      "For example, when doing 'df[col].method(value, inplace=True)', try using 'df.method({col: value}, inplace=True)' or df[col] = df[col].method(value) instead, to perform the operation inplace on the original object.\n",
      "\n",
      "\n",
      "  categorical_data[col].fillna(mode, inplace=True)\n",
      "C:\\Users\\brhnd\\AppData\\Local\\Temp\\ipykernel_9764\\372139516.py:3: SettingWithCopyWarning: \n",
      "A value is trying to be set on a copy of a slice from a DataFrame\n",
      "\n",
      "See the caveats in the documentation: https://pandas.pydata.org/pandas-docs/stable/user_guide/indexing.html#returning-a-view-versus-a-copy\n",
      "  categorical_data[col].fillna(mode, inplace=True)\n"
     ]
    }
   ],
   "source": [
    "for col in categorical_columns:\n",
    "    mode = categorical_data[col].mode()[0]  \n",
    "    categorical_data[col].fillna(mode, inplace=True)"
   ]
  },
  {
   "cell_type": "code",
   "execution_count": 8,
   "metadata": {},
   "outputs": [],
   "source": [
    "imputed_data = pd.concat([imputed_numerical_df, categorical_data], axis=1)"
   ]
  },
  {
   "cell_type": "code",
   "execution_count": 9,
   "metadata": {},
   "outputs": [
    {
     "name": "stdout",
     "output_type": "stream",
     "text": [
      "Are there still missing data? False\n"
     ]
    }
   ],
   "source": [
    "print(f\"Are there still missing data? {imputed_data.isnull().any().any()}\")"
   ]
  },
  {
   "cell_type": "code",
   "execution_count": 10,
   "metadata": {},
   "outputs": [
    {
     "name": "stdout",
     "output_type": "stream",
     "text": [
      "The dataset with filled missing values has been saved to the file 'project_1_train_imputed.csv'.\n"
     ]
    }
   ],
   "source": [
    "imputed_data.to_csv(\"project_1_train_imputed.csv\", index=False)\n",
    "print(\"The dataset with filled missing values has been saved to the file 'project_1_train_imputed.csv'.\")"
   ]
  },
  {
   "cell_type": "code",
   "execution_count": 16,
   "metadata": {},
   "outputs": [],
   "source": [
    "desired_columns = [\n",
    "    \"NR\", \"Gender\", \"Age\", \"Race1\", \"Race3\", \n",
    "    \"Education\", \"MaritalStatus\", \"HHIncome\", \"HHIncomeMid\", \"Poverty\", \n",
    "    \"HomeRooms\", \"HomeOwn\", \"Work\", \"Weight\", \"Height\", \"BMI\", \n",
    "    \"BMICatUnder20yrs\", \"BMI_WHO\", \"Pulse\", \"BPSysAve\", \"BPDiaAve\",\n",
    "    \"BPSys1\", \"BPDia1\", \"BPSys2\", \"BPSys2\", \"BPSys3\", \"BPDia3\", \n",
    "    \"Testosterone\", \"UrineVol1\", \"UrineFlow1\", \"Diabetes\",\n",
    "    \"HealthGen\", \"DaysPhysHlthBad\", \"DaysMentHlthBad\", \"Depressed\", \n",
    "    \"SleepHrsNight\", \"SleepTrouble\", \"PhysActive\", \"PhysActiveDays\", \n",
    "    \"TVHrsDay\", \"CompHrsDay\", \"Alcohol12PlusYr\", \"AlcoholDay\", \n",
    "    \"AlcoholYear\", \"SmokeNow\", \"Smoke100\", \"Smoke100n\", \"HardDrugs\", \n",
    "    \"SexEver\", \"SexAge\", \"SexNumPartnLife\", \"SameSex\" , \"DirectChol\"\n",
    "\n",
    "]"
   ]
  },
  {
   "cell_type": "code",
   "execution_count": 17,
   "metadata": {},
   "outputs": [
    {
     "name": "stdout",
     "output_type": "stream",
     "text": [
      "Successfully completed!\n"
     ]
    }
   ],
   "source": [
    "if all(col in imputed_data.columns for col in desired_columns):\n",
    "    imputed_data = imputed_data[desired_columns]\n",
    "    print(\"Successfully completed!\")\n",
    "else:\n",
    "    missing_cols = [col for col in desired_columns if col not in imputed_data.columns]\n",
    "    print(f\"The following columns were not found in the dataset: {missing_cols}\")\n"
   ]
  },
  {
   "cell_type": "code",
   "execution_count": 18,
   "metadata": {},
   "outputs": [
    {
     "name": "stdout",
     "output_type": "stream",
     "text": [
      "The dataset with adjusted column order has been saved to the file 'project_1_train_imputed_ordered.csv'.\n"
     ]
    }
   ],
   "source": [
    "imputed_data.to_csv(\"project_1_train_imputed_ordered.csv\", index=False)\n",
    "print(\"The dataset with adjusted column order has been saved to the file 'project_1_train_imputed_ordered.csv'.\")"
   ]
  }
 ],
 "metadata": {
  "kernelspec": {
   "display_name": "Python 3",
   "language": "python",
   "name": "python3"
  },
  "language_info": {
   "codemirror_mode": {
    "name": "ipython",
    "version": 3
   },
   "file_extension": ".py",
   "mimetype": "text/x-python",
   "name": "python",
   "nbconvert_exporter": "python",
   "pygments_lexer": "ipython3",
   "version": "3.12.1"
  }
 },
 "nbformat": 4,
 "nbformat_minor": 2
}
